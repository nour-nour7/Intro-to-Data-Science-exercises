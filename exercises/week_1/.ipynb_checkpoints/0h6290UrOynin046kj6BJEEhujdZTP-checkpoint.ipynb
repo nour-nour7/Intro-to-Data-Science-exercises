{
 "cells": [
  {
   "cell_type": "markdown",
   "metadata": {},
   "source": [
    "# Introduction to Data Science 2025\n",
    "\n",
    "# Week 1"
   ]
  },
  {
   "cell_type": "markdown",
   "metadata": {},
   "source": [
    "## Exercise 1 | Matrix warm-up\n",
    "<span style=\"background-color: #ccfff2\"> *Note: You can find tutorials for NumPy and Pandas under 'Useful tutorials' in the course material.*</span>"
   ]
  },
  {
   "cell_type": "markdown",
   "metadata": {},
   "source": [
    "One of the most useful properties of any scientific programming language (Python with NumPy, R, Julia, etc) is that they allow us to work with matrices efficiently. Let's learn more about these features!\n",
    "\n",
    "### 1.1 Basics\n",
    "\n",
    "1. Let's start by creating two arrays <span style=\"background-color: #ccfff2\"> A</span> and <span style=\"background-color: #ccfff2\"> B</span> which each have the integers <span style=\"background-color: #ccfff2\"> 0, 1, 2, ..., 1e7-1</span>. Use the normal arrays or lists of the programming language you are using, e.g. *list* or *[ ]* or *numpy.array()* in Python."
   ]
  },
  {
   "cell_type": "code",
   "execution_count": 2,
   "metadata": {},
   "outputs": [
    {
     "data": {
      "text/plain": [
       "array([0.000000e+00, 1.000000e+00, 2.000000e+00, ..., 9.999997e+06,\n",
       "       9.999998e+06, 9.999999e+06], shape=(10000000,))"
      ]
     },
     "execution_count": 2,
     "metadata": {},
     "output_type": "execute_result"
    }
   ],
   "source": [
    "import numpy as np\n",
    "\n",
    "A =np.arange(0,1e7)\n",
    "B=np.arange(0,1e7)\n",
    "#orrmaybe A=range(0,1e7) ? \n",
    "#or [i for i in range(0,1e7)]? \n",
    "A\n"
   ]
  },
  {
   "cell_type": "markdown",
   "metadata": {},
   "source": [
    "2. Create a function that uses a <span style=\"background-color: #ccfff2\"> for loop</span> or equivalent to return a new array <span style=\"background-color: #ccfff2\"> C</span>, which contains the <span style=\"background-color: #ccfff2\"> element-wise sum of *A* and *B*</span>, e.g. C should contain the integers <span style=\"background-color: #ccfff2\"> 0, 2, 4, etc</span>."
   ]
  },
  {
   "cell_type": "code",
   "execution_count": 3,
   "metadata": {},
   "outputs": [],
   "source": [
    "def add_with_for(A,B):\n",
    "    C = []\n",
    "    # add your code here\n",
    "    for i in range(len(A)):\n",
    "        C.append(A[i]+B[i])\n",
    "    return C"
   ]
  },
  {
   "cell_type": "markdown",
   "metadata": {},
   "source": [
    "3. Next, let's create another function that uses NumPy (or equivalent) to do the same. To try it out, allocate two arrays (e.g. using <span style=\"background-color: #ccfff2\"> np.array</span> in NumPy) and add the arrays together using your function. Don't use loops, instead, find out how to add the two arrays directly. What do you notice in comparison to the previous function?"
   ]
  },
  {
   "cell_type": "code",
   "execution_count": 4,
   "metadata": {},
   "outputs": [],
   "source": [
    "# Use this cell for your code\n",
    "def add_numpy(A,B):\n",
    "    return A+B\n",
    "#it should be quicker than wthi the for loop "
   ]
  },
  {
   "cell_type": "markdown",
   "metadata": {},
   "source": [
    "### 1.2 Array manipulation"
   ]
  },
  {
   "cell_type": "markdown",
   "metadata": {},
   "source": [
    "<span style=\"background-color: #ccfff2\"> *Note: for the following exercises, only use NumPy or equivalent functions. Don't use any loops.* </span>\n",
    "1. Create the following array:\n",
    "\n",
    "*[hint: <span style=\"background-color: #ccfff2\"> np.reshape</span>]*"
   ]
  },
  {
   "cell_type": "code",
   "execution_count": 4,
   "metadata": {},
   "outputs": [],
   "source": [
    "# array([[ 0,  1,  2,  3,  4,  5,  6,  7,  8,  9],\n",
    "#        [10, 11, 12, 13, 14, 15, 16, 17, 18, 19],\n",
    "#        [20, 21, 22, 23, 24, 25, 26, 27, 28, 29],\n",
    "#        [30, 31, 32, 33, 34, 35, 36, 37, 38, 39],\n",
    "#        [40, 41, 42, 43, 44, 45, 46, 47, 48, 49],\n",
    "#        [50, 51, 52, 53, 54, 55, 56, 57, 58, 59],\n",
    "#        [60, 61, 62, 63, 64, 65, 66, 67, 68, 69],\n",
    "#        [70, 71, 72, 73, 74, 75, 76, 77, 78, 79],\n",
    "#        [80, 81, 82, 83, 84, 85, 86, 87, 88, 89],\n",
    "#        [90, 91, 92, 93, 94, 95, 96, 97, 98, 99]])"
   ]
  },
  {
   "cell_type": "code",
   "execution_count": 5,
   "metadata": {},
   "outputs": [
    {
     "data": {
      "text/plain": [
       "array([[ 0,  1,  2,  3,  4,  5,  6,  7,  8,  9],\n",
       "       [10, 11, 12, 13, 14, 15, 16, 17, 18, 19],\n",
       "       [20, 21, 22, 23, 24, 25, 26, 27, 28, 29],\n",
       "       [30, 31, 32, 33, 34, 35, 36, 37, 38, 39],\n",
       "       [40, 41, 42, 43, 44, 45, 46, 47, 48, 49],\n",
       "       [50, 51, 52, 53, 54, 55, 56, 57, 58, 59],\n",
       "       [60, 61, 62, 63, 64, 65, 66, 67, 68, 69],\n",
       "       [70, 71, 72, 73, 74, 75, 76, 77, 78, 79],\n",
       "       [80, 81, 82, 83, 84, 85, 86, 87, 88, 89],\n",
       "       [90, 91, 92, 93, 94, 95, 96, 97, 98, 99]])"
      ]
     },
     "execution_count": 5,
     "metadata": {},
     "output_type": "execute_result"
    }
   ],
   "source": [
    "# Use this cell for your code\n",
    "A = np.arange(0,100).reshape(10,10)\n",
    "A"
   ]
  },
  {
   "cell_type": "markdown",
   "metadata": {},
   "source": [
    "2. Create the following array:"
   ]
  },
  {
   "cell_type": "code",
   "execution_count": 6,
   "metadata": {},
   "outputs": [],
   "source": [
    "# array([[0., 1., 0., 1., 0., 1., 0., 1., 0., 1.],\n",
    "#        [0., 1., 0., 1., 0., 1., 0., 1., 0., 1.],\n",
    "#        [0., 1., 0., 1., 0., 1., 0., 1., 0., 1.],\n",
    "#        [0., 1., 0., 1., 0., 1., 0., 1., 0., 1.],\n",
    "#        [0., 1., 0., 1., 0., 1., 0., 1., 0., 1.],\n",
    "#        [0., 1., 0., 1., 0., 1., 0., 1., 0., 1.],\n",
    "#        [0., 1., 0., 1., 0., 1., 0., 1., 0., 1.],\n",
    "#        [0., 1., 0., 1., 0., 1., 0., 1., 0., 1.],\n",
    "#        [0., 1., 0., 1., 0., 1., 0., 1., 0., 1.],\n",
    "#        [0., 1., 0., 1., 0., 1., 0., 1., 0., 1.]])"
   ]
  },
  {
   "cell_type": "code",
   "execution_count": 6,
   "metadata": {},
   "outputs": [
    {
     "data": {
      "text/plain": [
       "array([[0., 1., 0., 1., 0., 1., 0., 1., 0., 1.],\n",
       "       [0., 1., 0., 1., 0., 1., 0., 1., 0., 1.],\n",
       "       [0., 1., 0., 1., 0., 1., 0., 1., 0., 1.],\n",
       "       [0., 1., 0., 1., 0., 1., 0., 1., 0., 1.],\n",
       "       [0., 1., 0., 1., 0., 1., 0., 1., 0., 1.],\n",
       "       [0., 1., 0., 1., 0., 1., 0., 1., 0., 1.],\n",
       "       [0., 1., 0., 1., 0., 1., 0., 1., 0., 1.],\n",
       "       [0., 1., 0., 1., 0., 1., 0., 1., 0., 1.],\n",
       "       [0., 1., 0., 1., 0., 1., 0., 1., 0., 1.],\n",
       "       [0., 1., 0., 1., 0., 1., 0., 1., 0., 1.]])"
      ]
     },
     "execution_count": 6,
     "metadata": {},
     "output_type": "execute_result"
    }
   ],
   "source": [
    "# Use this cell for your code\n",
    "A = np.tile([0.,1.],(10,5))\n",
    "A\n",
    "#maybe i need to initialize the list outside as an np array?\n",
    "#à faire"
   ]
  },
  {
   "cell_type": "markdown",
   "metadata": {},
   "source": [
    "3. Create the following array (D):"
   ]
  },
  {
   "cell_type": "code",
   "execution_count": 8,
   "metadata": {},
   "outputs": [],
   "source": [
    "# array([[0., 1., 1., 1., 1., 1., 1., 1., 1., 1.],\n",
    "#        [1., 0., 1., 1., 1., 1., 1., 1., 1., 1.],\n",
    "#        [1., 1., 0., 1., 1., 1., 1., 1., 1., 1.],\n",
    "#        [1., 1., 1., 0., 1., 1., 1., 1., 1., 1.],\n",
    "#        [1., 1., 1., 1., 0., 1., 1., 1., 1., 1.],\n",
    "#        [1., 1., 1., 1., 1., 0., 1., 1., 1., 1.],\n",
    "#        [1., 1., 1., 1., 1., 1., 0., 1., 1., 1.],\n",
    "#        [1., 1., 1., 1., 1., 1., 1., 0., 1., 1.],\n",
    "#        [1., 1., 1., 1., 1., 1., 1., 1., 0., 1.],\n",
    "#        [1., 1., 1., 1., 1., 1., 1., 1., 1., 0.]])"
   ]
  },
  {
   "cell_type": "code",
   "execution_count": 7,
   "metadata": {},
   "outputs": [
    {
     "data": {
      "text/plain": [
       "array([[0., 1., 1., 1., 1., 1., 1., 1., 1., 1.],\n",
       "       [1., 0., 1., 1., 1., 1., 1., 1., 1., 1.],\n",
       "       [1., 1., 0., 1., 1., 1., 1., 1., 1., 1.],\n",
       "       [1., 1., 1., 0., 1., 1., 1., 1., 1., 1.],\n",
       "       [1., 1., 1., 1., 0., 1., 1., 1., 1., 1.],\n",
       "       [1., 1., 1., 1., 1., 0., 1., 1., 1., 1.],\n",
       "       [1., 1., 1., 1., 1., 1., 0., 1., 1., 1.],\n",
       "       [1., 1., 1., 1., 1., 1., 1., 0., 1., 1.],\n",
       "       [1., 1., 1., 1., 1., 1., 1., 1., 0., 1.],\n",
       "       [1., 1., 1., 1., 1., 1., 1., 1., 1., 0.]])"
      ]
     },
     "execution_count": 7,
     "metadata": {},
     "output_type": "execute_result"
    }
   ],
   "source": [
    "# Use this cell for your code\n",
    "D = np.ones((10,10))\n",
    "np.fill_diagonal(D,0)\n",
    "D\n",
    "#np.eye? but itgives the opposite.\n"
   ]
  },
  {
   "cell_type": "markdown",
   "metadata": {},
   "source": [
    "4. Create the following array (E):"
   ]
  },
  {
   "cell_type": "code",
   "execution_count": 10,
   "metadata": {},
   "outputs": [],
   "source": [
    "# array([[1., 1., 1., 1., 1., 1., 1., 1., 1., 0.],\n",
    "#        [1., 1., 1., 1., 1., 1., 1., 1., 0., 1.],\n",
    "#        [1., 1., 1., 1., 1., 1., 1., 0., 1., 1.],\n",
    "#        [1., 1., 1., 1., 1., 1., 0., 1., 1., 1.],\n",
    "#        [1., 1., 1., 1., 1., 0., 1., 1., 1., 1.],\n",
    "#        [1., 1., 1., 1., 0., 1., 1., 1., 1., 1.],\n",
    "#        [1., 1., 1., 0., 1., 1., 1., 1., 1., 1.],\n",
    "#        [1., 1., 0., 1., 1., 1., 1., 1., 1., 1.],\n",
    "#        [1., 0., 1., 1., 1., 1., 1., 1., 1., 1.],\n",
    "#        [0., 1., 1., 1., 1., 1., 1., 1., 1., 1.]])"
   ]
  },
  {
   "cell_type": "code",
   "execution_count": 8,
   "metadata": {},
   "outputs": [
    {
     "data": {
      "text/plain": [
       "array([[1., 1., 1., 1., 1., 1., 1., 1., 1., 0.],\n",
       "       [1., 1., 1., 1., 1., 1., 1., 1., 0., 1.],\n",
       "       [1., 1., 1., 1., 1., 1., 1., 0., 1., 1.],\n",
       "       [1., 1., 1., 1., 1., 1., 0., 1., 1., 1.],\n",
       "       [1., 1., 1., 1., 1., 0., 1., 1., 1., 1.],\n",
       "       [1., 1., 1., 1., 0., 1., 1., 1., 1., 1.],\n",
       "       [1., 1., 1., 0., 1., 1., 1., 1., 1., 1.],\n",
       "       [1., 1., 0., 1., 1., 1., 1., 1., 1., 1.],\n",
       "       [1., 0., 1., 1., 1., 1., 1., 1., 1., 1.],\n",
       "       [0., 1., 1., 1., 1., 1., 1., 1., 1., 1.]])"
      ]
     },
     "execution_count": 8,
     "metadata": {},
     "output_type": "execute_result"
    }
   ],
   "source": [
    "# Use this cell for your code\n",
    "#flipud or fliplr? whats the difference here \n",
    "E = np.ones((10,10))\n",
    "np.fill_diagonal(np.flipud(E),0)\n",
    "E"
   ]
  },
  {
   "cell_type": "markdown",
   "metadata": {},
   "source": [
    "5. Call the last two matrices <span style=\"background-color: #ccfff2\">D</span> and <span style=\"background-color: #ccfff2\">E</span>, respectively. Show that the determinant of their product (matrix multiplication) is the same as the product of their determinants. That is calculate both <span style=\"background-color: #ccfff2\">det(DE)</span> and <span style=\"background-color: #ccfff2\">det(D) * det(E)</span>, and show that they are the same. Is it a coincidence? (I think not) The product of the determinants (or the determinant of the product) should be -81."
   ]
  },
  {
   "cell_type": "code",
   "execution_count": 9,
   "metadata": {},
   "outputs": [
    {
     "name": "stdout",
     "output_type": "stream",
     "text": [
      "determinant D*E  -81.00000000000003\n",
      "det D * det E  -81.0\n"
     ]
    }
   ],
   "source": [
    "# Use this cell for your code\n",
    "#detDE=det(DE) vs detDE2= det(D)*det(E) \n",
    "\n",
    "DE = np.dot(D,E)\n",
    "detDE = np.linalg.det(DE)\n",
    "\n",
    "detDE2 = np.linalg.det(D) * np.linalg.det(E)\n",
    "\n",
    "print(\"determinant D*E \", detDE)\n",
    "print(\"det D * det E \", detDE2)\n",
    "\n"
   ]
  },
  {
   "cell_type": "markdown",
   "metadata": {},
   "source": [
    "-- *Use this markdown cell for your written answer* --"
   ]
  },
  {
   "cell_type": "markdown",
   "metadata": {},
   "source": [
    "### 1.3 Slicing\n",
    "\n",
    "Array slicing is a powerful way to extract data from an array. Let's practice array slicing with the following exercises!\n",
    "\n",
    "1. Load the [California housing dataset](https://scikit-learn.org/stable/modules/generated/sklearn.datasets.fetch_california_housing.html). The data should be a matrix of shape <span style=\"background-color: #ccfff2\">(20640, 8)</span>, that is 20640 rows and 8 columns. Use the <span style=\"background-color: #ccfff2\">.shape</span> attribute of NumPy arrays to verify this. Here's a [description of the fields](https://scikit-learn.org/stable/datasets/real_world.html#california-housing-dataset)."
   ]
  },
  {
   "cell_type": "code",
   "execution_count": 12,
   "metadata": {},
   "outputs": [
    {
     "name": "stdout",
     "output_type": "stream",
     "text": [
      "\u001b[31mERROR: Could not find a version that satisfies the requirement scikit-learn.datasets (from versions: none)\u001b[0m\u001b[31m\n",
      "\u001b[0m\u001b[31mERROR: No matching distribution found for scikit-learn.datasets\u001b[0m\u001b[31m\n",
      "\u001b[0m"
     ]
    },
    {
     "ename": "ModuleNotFoundError",
     "evalue": "No module named 'sklearn'",
     "output_type": "error",
     "traceback": [
      "\u001b[0;31m---------------------------------------------------------------------------\u001b[0m",
      "\u001b[0;31mModuleNotFoundError\u001b[0m                       Traceback (most recent call last)",
      "Cell \u001b[0;32mIn[12], line 4\u001b[0m\n\u001b[1;32m      1\u001b[0m \u001b[38;5;66;03m# Use this cell for your code\u001b[39;00m\n\u001b[1;32m      2\u001b[0m \u001b[38;5;66;03m#copied this from website given above\u001b[39;00m\n\u001b[1;32m      3\u001b[0m get_ipython()\u001b[38;5;241m.\u001b[39msystem(\u001b[38;5;124m'\u001b[39m\u001b[38;5;124mpip install scikit-learn.datasets\u001b[39m\u001b[38;5;124m'\u001b[39m)\n\u001b[0;32m----> 4\u001b[0m \u001b[38;5;28;01mfrom\u001b[39;00m \u001b[38;5;21;01msklearn\u001b[39;00m\u001b[38;5;21;01m.\u001b[39;00m\u001b[38;5;21;01mdatasets\u001b[39;00m \u001b[38;5;28;01mimport\u001b[39;00m fetch_california_housing\n\u001b[1;32m      5\u001b[0m housing \u001b[38;5;241m=\u001b[39m fetch_california_housing()\n\u001b[1;32m      6\u001b[0m \u001b[38;5;28mprint\u001b[39m(housing\u001b[38;5;241m.\u001b[39mdata\u001b[38;5;241m.\u001b[39mshape, housing\u001b[38;5;241m.\u001b[39mtarget\u001b[38;5;241m.\u001b[39mshape)\n",
      "\u001b[0;31mModuleNotFoundError\u001b[0m: No module named 'sklearn'"
     ]
    }
   ],
   "source": [
    "# Use this cell for your code\n",
    "#copied this from website given above\n",
    "from sklearn.datasets import fetch_california_housing\n",
    "housing = fetch_california_housing()\n",
    "print(housing.data.shape, housing.target.shape)\n",
    "print(housing.feature_names[0:6])\n",
    "print(housing.target_names)\n",
    "#so avgbedr is 3"
   ]
  },
  {
   "cell_type": "markdown",
   "metadata": {},
   "source": [
    "2. Select rows where the average number of bedrooms <span style=\"background-color: #ccfff2\">(AveBedrms)</span> is higher than 2. The first few row indices should be <span style=\"background-color: #ccfff2\">710,  1023,  1024, ...</span> (zero-indexed). Count these houses - how many rows are selected? *[hint: <span style=\"background-color: #ccfff2\">np.where</span>]*"
   ]
  },
  {
   "cell_type": "code",
   "execution_count": 14,
   "metadata": {},
   "outputs": [
    {
     "data": {
      "text/plain": [
       "(array([  710,  1023,  1024,  1030,  1102,  1233,  1234,  1235,  1236,\n",
       "         1238,  1239,  1240,  1566,  1867,  1871,  1872,  1879,  1881,\n",
       "         1889,  1901,  1906,  1910,  1911,  1912,  1913,  1914,  1925,\n",
       "         1926,  1978,  1979,  2392,  2395,  2396,  2397,  2398,  2510,\n",
       "         2511,  2643,  2656,  2763,  2768,  2776,  2778,  3014,  3086,\n",
       "         3095,  3258,  3292,  3293,  3313,  3314,  3334,  3349,  3350,\n",
       "         9193,  9423,  9431,  9451,  9634,  9669,  9671,  9672,  9675,\n",
       "         9676,  9678,  9679,  9680,  9681,  9682,  9683, 10067, 10076,\n",
       "        10077, 10078, 10079, 10080, 10081, 10082, 10083, 10084, 10405,\n",
       "        11705, 11706, 11707, 11708, 11709, 11710, 11711, 11713, 11714,\n",
       "        11715, 11716, 11717, 11719, 11720, 11721, 11722, 11723, 11724,\n",
       "        11725, 11729, 11831, 11832, 11833, 11834, 11847, 11848, 11849,\n",
       "        11850, 11862, 11865, 11866, 11867, 11869, 11870, 12136, 12303,\n",
       "        12305, 12306, 12307, 12324, 12325, 12344, 12349, 12351, 12354,\n",
       "        12359, 12361, 12362, 12366, 12368, 12371, 12372, 12374, 12376,\n",
       "        12390, 12392, 12394, 12396, 12404, 12405, 12430, 12446, 12447,\n",
       "        13898, 13900, 13911, 13912, 13919, 13920, 13923, 13924, 13934,\n",
       "        13935, 13936, 13937, 13939, 13940, 13941, 13942, 13943, 13944,\n",
       "        13945, 13946, 13947, 13948, 13949, 13950, 13953, 13954, 13955,\n",
       "        13956, 13957, 13958, 13959, 13960, 13961, 13962, 13963, 13964,\n",
       "        13965, 13966, 13967, 13968, 13969, 13970, 13971, 13972, 13973,\n",
       "        13974, 13975, 13976, 13978, 13979, 13980, 13999, 14417, 14418,\n",
       "        14805, 15500, 15595, 15779, 16598, 17878, 17891, 18680, 18681,\n",
       "        18817, 18821, 18822, 18858, 19331, 19362, 19435, 19536, 19736,\n",
       "        19780, 19781, 19789, 19800, 19801, 19802, 19803, 19806, 19807,\n",
       "        19975, 19976, 19977, 20089, 20092, 20093, 20094, 20110, 20112,\n",
       "        20113]),)"
      ]
     },
     "execution_count": 14,
     "metadata": {},
     "output_type": "execute_result"
    }
   ],
   "source": [
    "# Use this cell for your code\n",
    "#asframe true for pandas\n",
    "#also possibkle to download the kaggle dataset\n",
    "np.where(housing.data[:,3]>2)"
   ]
  },
  {
   "cell_type": "markdown",
   "metadata": {},
   "source": [
    "3. Select the rows where the median house age (i.e. median in each block group) <span style=\"background-color: #ccfff2\">(HouseAge)</span> is between 1 and 3 years (inclusive). There should be **124** of these."
   ]
  },
  {
   "cell_type": "code",
   "execution_count": 15,
   "metadata": {},
   "outputs": [
    {
     "data": {
      "text/plain": [
       "124"
      ]
     },
     "execution_count": 15,
     "metadata": {},
     "output_type": "execute_result"
    }
   ],
   "source": [
    "# Use this cell for your code\n",
    "x = np.where((housing.data[:,1]<=3) & (housing.data[:,1]>=1))\n",
    "\n",
    "#print(x)\n",
    "#print(x[0])\n",
    "x[0].size\n"
   ]
  },
  {
   "cell_type": "markdown",
   "metadata": {},
   "source": [
    "4. Find the mean of the block group population <span style=\"background-color: #ccfff2\">(Population)</span> for homes whose median value is more than 25000 USD (the target variable). It should be around **1425.68**."
   ]
  },
  {
   "cell_type": "code",
   "execution_count": 16,
   "metadata": {},
   "outputs": [
    {
     "name": "stdout",
     "output_type": "stream",
     "text": [
      "[4.526 3.585 3.521 ... 0.923 0.847 0.894]\n",
      "1425.6833737275813\n"
     ]
    }
   ],
   "source": [
    "# Use this cell for your code\n",
    "#population index 4\n",
    "#med house val is a tartget \n",
    "#frm site:\"The target variable is the median house value for California districts, expressed in hundreds of thousands of dollars ($100,000).\"\n",
    "#so 0.25 \n",
    "print(housing.target)\n",
    "x=np.where(housing.target>0.25)\n",
    "#so gottaselct column 4 for each of these rows \n",
    "res=housing.data[x[0],4]\n",
    "print(np.mean(res))\n"
   ]
  },
  {
   "cell_type": "markdown",
   "metadata": {},
   "source": [
    "## Exercise 2 | Working with text data\n",
    "\n",
    "Next, let's look into some text data. We will be looking into Amazon reviews, and the necessary steps to transform a raw dataset into a format more suitable for prediction tasks.\n",
    "\n",
    "1. Download the automotive 5-core dataset from [here](https://jmcauley.ucsd.edu/data/amazon_v2/categoryFilesSmall/Automotive_5.json.gz). Next, you can extract the data in <span style=\"background-color: #ccfff2\">JSON</span> format. You can also download one of the bigger ones, if you are feeling ambitious. Open the JSON file. Access the <span style=\"background-color: #ccfff2\">reviewText</span> field, which contains the unstructured review text written by the user.\n",
    "\n",
    "For instance, the first review reads as follows: \n",
    "\n",
    "*'After I wrote the below review, the manufacturer contacted me and explained how to use this.  Instead of the (current) picture on Amazon where the phone is placed vertically, you actually use the stand with the phone placed horizontally. [...]'*"
   ]
  },
  {
   "cell_type": "code",
   "execution_count": 17,
   "metadata": {},
   "outputs": [
    {
     "data": {
      "text/plain": [
       "0          After I wrote the below review, the manufactur...\n",
       "1          It sucks barely picks up anything definitely n...\n",
       "2          Well to write a short one, it blew 2 fuses of ...\n",
       "3          I have absolutely no memory of buying this but...\n",
       "4                                       it ok it does it job\n",
       "                                 ...                        \n",
       "1711514                          Fast Shipping, Works Great!\n",
       "1711515    Fit isn't great, relays are very hard to press...\n",
       "1711516    I bought an auxiliary horn for my car and it n...\n",
       "1711517    Way better than stock. Nice bright and white. ...\n",
       "1711518    Great product fast shipping and awesome commun...\n",
       "Name: reviewText, Length: 1711519, dtype: object"
      ]
     },
     "execution_count": 17,
     "metadata": {},
     "output_type": "execute_result"
    }
   ],
   "source": [
    "# Use this cell for your code\n",
    "#json has multiple json lines so we gottaeither forloop which would take tenyears \n",
    "#or try pandas? \n",
    "#!pip install pandas\n",
    "import pandas as pd\n",
    "\n",
    "data = pd.read_json('Automotive_5.json', lines=True)\n",
    "#print(data.head()) nice works\n",
    "\n",
    "data[\"reviewText\"]\n",
    "\n"
   ]
  },
  {
   "cell_type": "markdown",
   "metadata": {},
   "source": [
    "2. Next, let's follow some steps to normalize the text data.\n",
    "\n",
    "When dealing with natural language, it is important to notice that while, for example, the words \"Copper\" and \"copper\" are represented by two different strings, they have the same meaning. When applying statistical methods on this data, it is useful to ensure that words with the same meaning are represented by the same string.\n",
    "\n",
    "* <span style=\"background-color: #ccfff2\">Downcasing</span>: Let's first downcase the contents of the <span style=\"background-color: #ccfff2\">reviewText</span> field.\n",
    "\n",
    "Now the first review should be:\n",
    "\n",
    "*'after i wrote the below review, the manufacturer contacted me and explained how to use this.  instead of the (current) picture on amazon where the phone is placed vertically, you actually use the stand with the phone placed horizontally.'*"
   ]
  },
  {
   "cell_type": "code",
   "execution_count": 19,
   "metadata": {},
   "outputs": [
    {
     "data": {
      "text/plain": [
       "0          after i wrote the below review, the manufactur...\n",
       "1          it sucks barely picks up anything definitely n...\n",
       "2          well to write a short one, it blew 2 fuses of ...\n",
       "3          i have absolutely no memory of buying this but...\n",
       "4                                       it ok it does it job\n",
       "                                 ...                        \n",
       "1711514                          fast shipping, works great!\n",
       "1711515    fit isn't great, relays are very hard to press...\n",
       "1711516    i bought an auxiliary horn for my car and it n...\n",
       "1711517    way better than stock. nice bright and white. ...\n",
       "1711518    great product fast shipping and awesome commun...\n",
       "Name: reviewText, Length: 1711519, dtype: object"
      ]
     },
     "execution_count": 19,
     "metadata": {},
     "output_type": "execute_result"
    }
   ],
   "source": [
    "# Use this cell for your code\n",
    "data[\"reviewText\"]=data[\"reviewText\"].str.lower()\n",
    "data[\"reviewText\"]"
   ]
  },
  {
   "cell_type": "markdown",
   "metadata": {},
   "source": [
    "3. Let's continue with punctuation and stop word removal. Stop words are words like \"and\", \"the\", etc. They are usually very common words that have little to do with the actual content matter. There's plenty openly available lists of stop words for almost any (natural) language.\n",
    "\n",
    "* <span style=\"background-color: #ccfff2\">Punctuation and stop-word removal</span>: Let's now remove all punctuation, as well as the stop words. You can find a stop word list for English, e.g. [here](https://gist.github.com/xldrkp/4a3b1a33f10d37bedbe0068f2b4482e8#file-stopwords-en-txt).*(use the link to download a txt of english stopwords)* Save the stopwords in the file as \"stopwords-en.txt\".\n",
    "\n",
    "First review at this point reads as: \n",
    "\n",
    "*'wrote review manufacturer contacted explained current picture amazon phone vertically stand phone horizontally'*"
   ]
  },
  {
   "cell_type": "code",
   "execution_count": 20,
   "metadata": {
    "scrolled": true
   },
   "outputs": [
    {
     "data": {
      "text/plain": [
       "0          wrote review manufacturer contacted explained ...\n",
       "1          sucks barely picks definitely cars pretty dont...\n",
       "2          write short blew 2 fuses car apparently demand...\n",
       "3          absolutely memory buying im going review goes ...\n",
       "4                                                ok does job\n",
       "                                 ...                        \n",
       "1711514                            fast shipping works great\n",
       "1711515    fit isnt great relays hard press connector mec...\n",
       "1711516    bought auxiliary horn car needed run relay guy...\n",
       "1711517    way better stock nice bright white super easy ...\n",
       "1711518    great product fast shipping awesome communicat...\n",
       "Name: reviewText, Length: 1711519, dtype: object"
      ]
     },
     "execution_count": 20,
     "metadata": {},
     "output_type": "execute_result"
    }
   ],
   "source": [
    "# Use this cell for your code\n",
    "with open(\"stopwords-en.txt\",\"r\") as file:\n",
    "    stopwords = set(file.read().splitlines()) #set fasdter\n",
    "\n",
    "#for each line, str replace \"word\" with empty? \n",
    "#wouldnt it take a longtime tho? gottatest\n",
    "#for punctuation string.punctuation\n",
    "#used this tuto:https://www.geeksforgeeks.org/python/python-remove-punctuation-from-string/\n",
    "import string\n",
    "translator = str.maketrans(\"\",\"\",string.punctuation)\n",
    "data[\"reviewText\"]=data[\"reviewText\"].str.translate(translator)\n",
    "data[\"reviewText\"]\n",
    "\n",
    "#maybefor loop with str replace, but it would take a very long time\n",
    "#or pandas apply? \n",
    "#got a 'float' object has no attribute 'split' error so maybe some vals in reviewText are empty? need to remove them or skip them\n",
    "def remove_word(string):\n",
    "    if pd.isna(string):\n",
    "        return string\n",
    "    filtered = []\n",
    "    words=string.split()\n",
    "    for word in words:\n",
    "        if word not in stopwords:\n",
    "            filtered.append(word) #list of words without stops, gotta join them and leave space\n",
    "    return \" \".join(filtered) \n",
    "data[\"reviewText\"]=data[\"reviewText\"].apply(remove_word)\n",
    "\n",
    "data[\"reviewText\"] #ok i think\n",
    "\n"
   ]
  },
  {
   "cell_type": "markdown",
   "metadata": {},
   "source": [
    "4. Let's continue with stemming. For example, while the words \"swims\" and \"swim\" are different strings, they both refer to swimming. [Stemming](https://en.wikipedia.org/wiki/Stemming) refers to the process of mapping words from their inflected form to their base form, for instance: swims -> swim.\n",
    "\n",
    "* <span style=\"background-color: #ccfff2\">Stemming</span>: Apply a stemmer on the paragraphs, so that inflected forms are mapped to the base form. For example, for Python the popular natural language toolkit [nltk](http://www.nltk.org/howto/stem.html) has an easy to use stemmer. In case you are using R, you can try the [Snowball stemmer](https://www.rdocumentation.org/packages/corpus/versions/0.10.2/topics/stem_snowball). You can find out how to install nltk from [here](https://www.nltk.org/install.html). It will take a while to run! So, grab a coffee and wait :D\n",
    "\n",
    "Finally, after stemming: \n",
    "\n",
    "*'wrote review manufactur contact explain current pictur amazon phone vertic stand phone horizont'*"
   ]
  },
  {
   "cell_type": "code",
   "execution_count": 23,
   "metadata": {},
   "outputs": [
    {
     "data": {
      "text/plain": [
       "'wrote review manufactur contact explain use instead current pictur amazon phone place vertic actual use stand phone place horizont charg sync cabl goe hole charg use landscap posit stand doe make sen im upgrad review 2 star 4 star rare case user error star lack document manufactur said includ direct encourag updat photo amazon exampl use wood qualiti good sturdi littl stand im tri think id actual use stand facetim chat think use open offic environ want phone desk alert notif easili hope updat review help origin review throw stand garbag craft nice wood function near tell doe come instruct product descript confu english poorli translat chine iphon sit stand just fine stand way plug plug stand block turn iphon plug just look strang im sure hole stand suppo includ plastic feet instruct affix stand began wobbl figur work thing post review far im concern box experi terribl sorri recommend sampl provid exchang honest review'"
      ]
     },
     "execution_count": 23,
     "metadata": {},
     "output_type": "execute_result"
    }
   ],
   "source": [
    "# Use this cell for your code\n",
    "#!pip install nltk\n",
    "#used the exact methods from the documentation https://www.nltk.org/howto/stem.html\n",
    "from nltk.stem import *\n",
    "from nltk.stem.porter import *\n",
    "stemmer = PorterStemmer()\n",
    "\n",
    "\n",
    "#pandas apply as well so need a funciton\n",
    "def stem_words(string):\n",
    "    if pd.isna(string):\n",
    "        return string\n",
    "\n",
    "    words = string.split()\n",
    "    stemmed=[stemmer.stem(word) for word in words]\n",
    "    return \" \".join(stemmed)\n",
    "\n",
    "data[\"reviewText\"]=data[\"reviewText\"].apply(stem_words)\n",
    "data[\"reviewText\"][0]\n",
    "\n"
   ]
  },
  {
   "cell_type": "markdown",
   "metadata": {},
   "source": [
    "5. Finally, filter the data by selecting reviews where the field <span style=\"background-color: #ccfff2\">overall</span> is 4 or 5, and store the review texts in a file named <span style=\"background-color: #ccfff2\">pos.txt</span>. Similarly, select reviews with rating 1 or 2 and store them in a file named <span style=\"background-color: #ccfff2\">neg.txt</span>. Ignore the reviews with overall rating 3. Each line in the two files should contain exactly one preprocessed review text without the rating."
   ]
  },
  {
   "cell_type": "code",
   "execution_count": 32,
   "metadata": {},
   "outputs": [
    {
     "name": "stdout",
     "output_type": "stream",
     "text": [
      "['wrote review manufactur contact explain use instead current pictur amazon phone place vertic actual use stand phone place horizont charg sync cabl goe hole charg use landscap posit stand doe make sen im upgrad review 2 star 4 star rare case user error star lack document manufactur said includ direct encourag updat photo amazon exampl use wood qualiti good sturdi littl stand im tri think id actual use stand facetim chat think use open offic environ want phone desk alert notif easili hope updat review help origin review throw stand garbag craft nice wood function near tell doe come instruct product descript confu english poorli translat chine iphon sit stand just fine stand way plug plug stand block turn iphon plug just look strang im sure hole stand suppo includ plastic feet instruct affix stand began wobbl figur work thing post review far im concern box experi terribl sorri recommend sampl provid exchang honest review\\n', 'ok doe job\\n', '3 big dog great ford transit connect\\n', 'good suction last\\n', 'love itwork great wow\\n']\n"
     ]
    }
   ],
   "source": [
    "# Use this cell for your code\n",
    "#select reviews, save to file \n",
    "\n",
    "pos=data[(data[\"overall\"]==4 )| (data[\"overall\"]==5)]\n",
    "neg=data[(data[\"overall\"]==1 )| (data[\"overall\"]==2)]\n",
    "\n",
    "with open(\"pos.txt\", \"w\") as file:\n",
    "    file.write(\"\\n\".join(pos[\"reviewText\"].dropna()))\n",
    "with open(\"neg.txt\", \"w\") as file:\n",
    "    file.write(\"\\n\".join(neg[\"reviewText\"].dropna()))\n",
    "\n",
    "#with open(\"pos.txt\", \"r\") as file:\n",
    "    #lines = file.readlines()\n",
    "    #print(lines[:5])"
   ]
  },
  {
   "cell_type": "markdown",
   "metadata": {},
   "source": [
    "## Exercise 3 | SQL basics\n",
    "\n",
    "Next, let's take a refresher on the basics of SQL. In this exercise, you will be working on the simplified Northwind 2000 SQLite database. You can download the database from Kaggle [here](https://courses.mooc.fi/api/v0/files/course/f92ffc32-2dd4-421d-87f3-c48800422cc5/files/VEKX2bxGCDGyojG902gmYZTXCnrAQw.zip).\n",
    "\n",
    "To test your SQL queries and complete the exercise, you can download and install SQLite if you don't yet have it installed.\n",
    "\n",
    "Please write SQL queries for the tasks on the simplified Northwind 2000 SQLite database.\n",
    "\n",
    "1. List the first name, last name, and hire date of all employees hired after January 1st, 1994.\n",
    "\n",
    "2. Count how many orders each customer has placed.\n",
    "\n",
    "3. Find the names of all customers who have ordered the product \"Chai\".\n",
    "\n",
    "4. Find all orders that have been placed but not yet shipped.\n",
    "\n",
    "5. Find the customer who has placed the most orders."
   ]
  },
  {
   "cell_type": "markdown",
   "metadata": {},
   "source": [
    "**Remember to submit your solutions. You can return this Jupyter notebook (.ipynb) or .py, .R, etc depending on your programming preferences. Remember to also submit your SQL queries. No need to submit the text files for the programming exercises.**"
   ]
  }
 ],
 "metadata": {
  "kernelspec": {
   "display_name": "venv",
   "language": "python",
   "name": "venv"
  },
  "language_info": {
   "codemirror_mode": {
    "name": "ipython",
    "version": 3
   },
   "file_extension": ".py",
   "mimetype": "text/x-python",
   "name": "python",
   "nbconvert_exporter": "python",
   "pygments_lexer": "ipython3",
   "version": "3.13.7"
  }
 },
 "nbformat": 4,
 "nbformat_minor": 4
}
